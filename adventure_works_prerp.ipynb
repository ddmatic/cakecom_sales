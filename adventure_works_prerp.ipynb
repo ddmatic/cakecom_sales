{
 "cells": [
  {
   "cell_type": "code",
   "execution_count": 1,
   "id": "ae6cd342-f9c0-4cff-9aa9-3af3554eaff5",
   "metadata": {},
   "outputs": [],
   "source": [
    "import pandas as pd"
   ]
  },
  {
   "cell_type": "markdown",
   "id": "fb4230c7-500e-4648-a043-9e4e5b50cc2f",
   "metadata": {},
   "source": [
    "# Loading and getting to know the dataset"
   ]
  },
  {
   "cell_type": "code",
   "execution_count": 2,
   "id": "b5b385bf-7590-4083-b747-31432fedfc42",
   "metadata": {},
   "outputs": [],
   "source": [
    "df = pd.read_csv('adventure_works_purchase_orders.csv')\n",
    "\n",
    "# df.info()\n",
    "# df.head()\n",
    "\n",
    "# Columns seems to bring no value, therefore dropping them\n",
    "df[['ShipDate', 'DueDate']].drop_duplicates()\n",
    "usable_cols = [col for col in df.columns if col not in ['ShipDate', 'DueDate']]\n",
    "df = df[usable_cols]\n",
    "\n",
    "# Removing underscore from column names so every header is standardized\n",
    "col_format = [i.replace('_', '') for i in usable_cols]\n",
    "new_cols = dict(zip(usable_cols, col_format))\n",
    "df.rename(columns=new_cols, inplace=True)\n",
    "\n",
    "# Converting OrderDate to date format\n",
    "df['OrderDate'] = pd.to_datetime(df['OrderDate'])"
   ]
  },
  {
   "cell_type": "markdown",
   "id": "321637f0-d5e0-4f04-8d69-38d4e5435ad5",
   "metadata": {},
   "source": [
    "# Data Wrangling"
   ]
  },
  {
   "cell_type": "code",
   "execution_count": 3,
   "id": "d4b19f4c-f53d-4ff1-b7a5-60a44f045759",
   "metadata": {},
   "outputs": [],
   "source": [
    "# Adding sales data\n",
    "# Actual sales = Unit Price * Discount * Quantity\n",
    "df['ActualSales'] = df['UnitPrice'] * (1-df['UnitPriceDiscount']) * df['OrderQty']\n",
    "# Calculating COGS (Cost of Goods Sold) = Unit_Cost * Quantity\n",
    "df['COGS'] = df['UnitCost'] * df['OrderQty']\n",
    "# Front Marign are actual sales minus COGS\n",
    "df['FrontMargin'] = df['ActualSales'] - df['COGS'] \n",
    "# Deducting shipping cost from FM to get Gross Margin\n",
    "df['GrossMargin'] = df['FrontMargin'] - df['OrderQty'] * df['UnitFreightCost']\n",
    "# Adding a helper column by which promo share is going to be calculated\n",
    "df['IsPromo'] = 1\n",
    "df.loc[df['UnitPriceDiscount'] == 0, \"IsPromo\"] = 0"
   ]
  },
  {
   "cell_type": "code",
   "execution_count": 4,
   "id": "14fdb3c4-f994-42b2-a0f8-cff887d7154e",
   "metadata": {},
   "outputs": [],
   "source": [
    "# Creating set offseted by 1 year so historical changes can be calculated\n",
    "df_y_offset = df.copy()\n",
    "df_y_offset['OrderDate'] = df_y_offset['OrderDate'] + pd.DateOffset(years=1)"
   ]
  },
  {
   "cell_type": "code",
   "execution_count": 5,
   "id": "6fc1f97c-cc7e-4c18-85d1-a53981cf7319",
   "metadata": {},
   "outputs": [],
   "source": [
    "# Merging the dataset with offseted dataset so Like for Like can be calculated\n",
    "sales_data = pd.merge(df, df_y_offset,\n",
    "                      how='outer',\n",
    "                      on=['OrderDate',\n",
    "                          'SalesPerson',\n",
    "                          'SalesRegion',\n",
    "                          'SalesProvince',\t\n",
    "                          'SalesCity',\n",
    "                          'SalesPostalCode',\n",
    "                          'CustomerCode',\n",
    "                          'CustomerName',\n",
    "                          'CustomerRegion',\n",
    "                          'CustomerProvince',\n",
    "                          'CustomerCity',\n",
    "                          'CustomerPostalCode',\n",
    "                          'ProductCategory',\n",
    "                          'ProductSubCategory',\n",
    "                          'ProductName',\n",
    "                          'ProductCode'],\n",
    "                      suffixes=('_CY', '_LY'))\n"
   ]
  },
  {
   "cell_type": "code",
   "execution_count": 6,
   "id": "02ef5a6c-7985-4220-b312-812b2b72f948",
   "metadata": {},
   "outputs": [],
   "source": [
    "new_cols =['SalesOrderNumber_CY', 'OrderDate', 'SalesPerson', 'SalesRegion',\n",
    "           'SalesProvince', 'SalesCity', 'SalesPostalCode', 'CustomerCode',\n",
    "           'CustomerName', 'CustomerRegion', 'CustomerProvince',\n",
    "           'CustomerCity', 'CustomerPostalCode',\n",
    "           'ProductCategory', 'ProductSubCategory', 'ProductName',\n",
    "           'ProductCode', 'UnitCost_CY', 'UnitPrice_CY', 'UnitPriceDiscount_CY',\n",
    "           'OrderQty_CY', 'UnitFreightCost_CY', 'ActualSales_CY', 'COGS_CY',\n",
    "           'FrontMargin_CY', 'GrossMargin_CY', 'IsPromo_CY', 'SalesOrderNumber_LY',\n",
    "           'UnitCost_LY', 'UnitPrice_LY', 'UnitPriceDiscount_LY',\n",
    "           'OrderQty_LY', 'UnitFreightCost_LY', 'ActualSales_LY', 'COGS_LY',\n",
    "           'FrontMargin_LY', 'GrossMargin_LY', 'IsPromo_LY']\n",
    "\n",
    "sales_data = sales_data[new_cols]\n",
    "\n",
    "# Removing suffixes\n",
    "discrete_cols =['OrderDate', 'SalesPerson', 'SalesRegion_CY',\n",
    "                'SalesProvince_CY', 'SalesCity_CY', 'SalesPostalCode', 'CustomerCode',\n",
    "                'CustomerName_CY', 'CustomerRegion_CY', 'CustomerProvince_CY',\n",
    "                'CustomerCity_CY', 'CustomerPostalCode',\n",
    "                'ProductCategory_CY', 'ProductSubCategory_CY', 'ProductName_CY',\n",
    "                'ProductCode']\n",
    "discrete_cols_new = []\n",
    "\n",
    "for col in discrete_cols:\n",
    "    discrete_cols_new.append(col.replace('_CY', ''))\n",
    "    \n",
    "discrete_cols_dict = dict(zip(discrete_cols, discrete_cols_new))\n",
    "sales_data.rename(columns=discrete_cols_dict, inplace=True)"
   ]
  },
  {
   "cell_type": "markdown",
   "id": "d0665ae4-9649-4c7e-b2d9-8cb209aed83e",
   "metadata": {},
   "source": [
    "# Data Validation"
   ]
  },
  {
   "cell_type": "code",
   "execution_count": 7,
   "id": "ed4a7b79-cade-4f7a-b80f-4523b9353db0",
   "metadata": {
    "tags": []
   },
   "outputs": [
    {
     "data": {
      "text/html": [
       "<div>\n",
       "<style scoped>\n",
       "    .dataframe tbody tr th:only-of-type {\n",
       "        vertical-align: middle;\n",
       "    }\n",
       "\n",
       "    .dataframe tbody tr th {\n",
       "        vertical-align: top;\n",
       "    }\n",
       "\n",
       "    .dataframe thead th {\n",
       "        text-align: right;\n",
       "    }\n",
       "</style>\n",
       "<table border=\"1\" class=\"dataframe\">\n",
       "  <thead>\n",
       "    <tr style=\"text-align: right;\">\n",
       "      <th></th>\n",
       "      <th>ActualSales</th>\n",
       "      <th>ActualSales_CY</th>\n",
       "      <th>ActualSales_LY</th>\n",
       "      <th>VS_Original</th>\n",
       "      <th>VS_Offset</th>\n",
       "    </tr>\n",
       "    <tr>\n",
       "      <th>OrderDate</th>\n",
       "      <th></th>\n",
       "      <th></th>\n",
       "      <th></th>\n",
       "      <th></th>\n",
       "      <th></th>\n",
       "    </tr>\n",
       "  </thead>\n",
       "  <tbody>\n",
       "    <tr>\n",
       "      <th>2005</th>\n",
       "      <td>1.115334e+07</td>\n",
       "      <td>1.115334e+07</td>\n",
       "      <td>1.115334e+07</td>\n",
       "      <td>0.0</td>\n",
       "      <td>0.0</td>\n",
       "    </tr>\n",
       "    <tr>\n",
       "      <th>2006</th>\n",
       "      <td>3.275189e+07</td>\n",
       "      <td>3.275189e+07</td>\n",
       "      <td>3.275189e+07</td>\n",
       "      <td>0.0</td>\n",
       "      <td>0.0</td>\n",
       "    </tr>\n",
       "    <tr>\n",
       "      <th>2007</th>\n",
       "      <td>3.845821e+07</td>\n",
       "      <td>3.845821e+07</td>\n",
       "      <td>3.845821e+07</td>\n",
       "      <td>0.0</td>\n",
       "      <td>0.0</td>\n",
       "    </tr>\n",
       "    <tr>\n",
       "      <th>2008</th>\n",
       "      <td>1.776719e+07</td>\n",
       "      <td>1.776719e+07</td>\n",
       "      <td>1.776719e+07</td>\n",
       "      <td>0.0</td>\n",
       "      <td>0.0</td>\n",
       "    </tr>\n",
       "  </tbody>\n",
       "</table>\n",
       "</div>"
      ],
      "text/plain": [
       "            ActualSales  ActualSales_CY  ActualSales_LY  VS_Original  \\\n",
       "OrderDate                                                              \n",
       "2005       1.115334e+07    1.115334e+07    1.115334e+07          0.0   \n",
       "2006       3.275189e+07    3.275189e+07    3.275189e+07          0.0   \n",
       "2007       3.845821e+07    3.845821e+07    3.845821e+07          0.0   \n",
       "2008       1.776719e+07    1.776719e+07    1.776719e+07          0.0   \n",
       "\n",
       "           VS_Offset  \n",
       "OrderDate             \n",
       "2005             0.0  \n",
       "2006             0.0  \n",
       "2007             0.0  \n",
       "2008             0.0  "
      ]
     },
     "execution_count": 7,
     "metadata": {},
     "output_type": "execute_result"
    }
   ],
   "source": [
    "# Summarazing ActualSales columns to check if data got lost during processing\n",
    "original_summary = pd.DataFrame(df.groupby(df.OrderDate.dt.year)['ActualSales'].sum())\n",
    "new_summary = pd.DataFrame(sales_data.groupby(sales_data.OrderDate.dt.year)[['ActualSales_CY', 'ActualSales_LY']].sum())\n",
    "# Shifting offseted column back to it's original position for easier check\n",
    "new_summary['ActualSales_LY'] = new_summary['ActualSales_LY'].shift(-1)\n",
    "\n",
    "combined_summary = pd.merge(original_summary, new_summary, how='inner', on=['OrderDate'])\n",
    "combined_summary['VS_Original'] = combined_summary['ActualSales'] - combined_summary['ActualSales_CY']\n",
    "combined_summary['VS_Offset'] = combined_summary['ActualSales'] - combined_summary['ActualSales_LY']\n",
    "combined_summary.head()"
   ]
  },
  {
   "cell_type": "code",
   "execution_count": 8,
   "id": "94a90b67-1a19-449d-8b84-b6fdcbfb4b45",
   "metadata": {},
   "outputs": [
    {
     "data": {
      "text/html": [
       "<div>\n",
       "<style scoped>\n",
       "    .dataframe tbody tr th:only-of-type {\n",
       "        vertical-align: middle;\n",
       "    }\n",
       "\n",
       "    .dataframe tbody tr th {\n",
       "        vertical-align: top;\n",
       "    }\n",
       "\n",
       "    .dataframe thead th {\n",
       "        text-align: right;\n",
       "    }\n",
       "</style>\n",
       "<table border=\"1\" class=\"dataframe\">\n",
       "  <thead>\n",
       "    <tr style=\"text-align: right;\">\n",
       "      <th></th>\n",
       "      <th>SalesOrderNumber_CY</th>\n",
       "      <th>SalesOrderNumber_LY</th>\n",
       "    </tr>\n",
       "    <tr>\n",
       "      <th>OrderDate</th>\n",
       "      <th></th>\n",
       "      <th></th>\n",
       "    </tr>\n",
       "  </thead>\n",
       "  <tbody>\n",
       "    <tr>\n",
       "      <th>2005</th>\n",
       "      <td>286</td>\n",
       "      <td>0</td>\n",
       "    </tr>\n",
       "    <tr>\n",
       "      <th>2006</th>\n",
       "      <td>764</td>\n",
       "      <td>286</td>\n",
       "    </tr>\n",
       "    <tr>\n",
       "      <th>2007</th>\n",
       "      <td>1020</td>\n",
       "      <td>764</td>\n",
       "    </tr>\n",
       "    <tr>\n",
       "      <th>2008</th>\n",
       "      <td>559</td>\n",
       "      <td>1020</td>\n",
       "    </tr>\n",
       "    <tr>\n",
       "      <th>2009</th>\n",
       "      <td>0</td>\n",
       "      <td>559</td>\n",
       "    </tr>\n",
       "  </tbody>\n",
       "</table>\n",
       "</div>"
      ],
      "text/plain": [
       "           SalesOrderNumber_CY  SalesOrderNumber_LY\n",
       "OrderDate                                          \n",
       "2005                       286                    0\n",
       "2006                       764                  286\n",
       "2007                      1020                  764\n",
       "2008                       559                 1020\n",
       "2009                         0                  559"
      ]
     },
     "execution_count": 8,
     "metadata": {},
     "output_type": "execute_result"
    }
   ],
   "source": [
    "sales_data.groupby(sales_data.OrderDate.dt.year)[['SalesOrderNumber_CY', 'SalesOrderNumber_LY']].nunique()"
   ]
  },
  {
   "cell_type": "code",
   "execution_count": 9,
   "id": "eeb8ce4d-38c7-45e1-a771-e9db457fd27b",
   "metadata": {},
   "outputs": [
    {
     "data": {
      "text/html": [
       "<div>\n",
       "<style scoped>\n",
       "    .dataframe tbody tr th:only-of-type {\n",
       "        vertical-align: middle;\n",
       "    }\n",
       "\n",
       "    .dataframe tbody tr th {\n",
       "        vertical-align: top;\n",
       "    }\n",
       "\n",
       "    .dataframe thead th {\n",
       "        text-align: right;\n",
       "    }\n",
       "</style>\n",
       "<table border=\"1\" class=\"dataframe\">\n",
       "  <thead>\n",
       "    <tr style=\"text-align: right;\">\n",
       "      <th></th>\n",
       "      <th>ActualSales_CY</th>\n",
       "      <th>ActualSales_LY</th>\n",
       "    </tr>\n",
       "    <tr>\n",
       "      <th>OrderDate</th>\n",
       "      <th></th>\n",
       "      <th></th>\n",
       "    </tr>\n",
       "  </thead>\n",
       "  <tbody>\n",
       "    <tr>\n",
       "      <th>2006</th>\n",
       "      <td>1.327140e+06</td>\n",
       "      <td>9.133279e+05</td>\n",
       "    </tr>\n",
       "    <tr>\n",
       "      <th>2007</th>\n",
       "      <td>4.936375e+06</td>\n",
       "      <td>4.809734e+06</td>\n",
       "    </tr>\n",
       "    <tr>\n",
       "      <th>2008</th>\n",
       "      <td>5.373082e+06</td>\n",
       "      <td>5.449732e+06</td>\n",
       "    </tr>\n",
       "  </tbody>\n",
       "</table>\n",
       "</div>"
      ],
      "text/plain": [
       "           ActualSales_CY  ActualSales_LY\n",
       "OrderDate                                \n",
       "2006         1.327140e+06    9.133279e+05\n",
       "2007         4.936375e+06    4.809734e+06\n",
       "2008         5.373082e+06    5.449732e+06"
      ]
     },
     "execution_count": 9,
     "metadata": {},
     "output_type": "execute_result"
    }
   ],
   "source": [
    "l4l_sales_data = sales_data[sales_data['ActualSales_CY'].notna() & sales_data['ActualSales_LY'].notna()]\n",
    "l4l_sales_data.groupby(l4l_sales_data.OrderDate.dt.year)[['ActualSales_CY', 'ActualSales_LY']].sum()"
   ]
  },
  {
   "cell_type": "markdown",
   "id": "b61c8413-0af9-4302-b898-4f8f727909a6",
   "metadata": {},
   "source": [
    "# Data Export"
   ]
  },
  {
   "cell_type": "code",
   "execution_count": 10,
   "id": "1ae2d8ed-e7e9-451d-b428-8671cf6c9402",
   "metadata": {},
   "outputs": [],
   "source": [
    "# Discarding year 2009 as it is result of offseting the year, therefore non-existent\n",
    "sales_data = sales_data[sales_data['OrderDate'].dt.year != 2009]\n",
    "# Saving the new datasets\n",
    "sales_data.to_csv('cake_techi_data.csv', index=False)\n",
    "l4l_sales_data.to_csv('cake_techi_l4l_data.csv', index=False)"
   ]
  }
 ],
 "metadata": {
  "kernelspec": {
   "display_name": "Python 3 (ipykernel)",
   "language": "python",
   "name": "python3"
  },
  "language_info": {
   "codemirror_mode": {
    "name": "ipython",
    "version": 3
   },
   "file_extension": ".py",
   "mimetype": "text/x-python",
   "name": "python",
   "nbconvert_exporter": "python",
   "pygments_lexer": "ipython3",
   "version": "3.11.2"
  }
 },
 "nbformat": 4,
 "nbformat_minor": 5
}
